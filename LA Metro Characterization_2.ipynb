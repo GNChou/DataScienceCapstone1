{
 "cells": [
  {
   "cell_type": "markdown",
   "metadata": {},
   "source": [
    "# LA Metro Lines Characterization"
   ]
  },
  {
   "cell_type": "markdown",
   "metadata": {},
   "source": [
    "## Introduction"
   ]
  },
  {
   "cell_type": "markdown",
   "metadata": {},
   "source": [
    "Driving in Los Angeles (LA) traffic could be a daunting task for tourists or people who are staying in LA for only a short while. Not only does LA have the worst traffic in the US (according to CBS news), but also confusing traffic layouts and road surfaces in dire disrepair. With LA being one of the host cities of World Cup 2026 and the host city of 2028 Olympics, it is clear that LA metro will be playing a major role in transporting tourists. \n",
    "\n",
    "Therefore, the characterization of the metro lines would be of great interest to tourists and local businesses alike. In this study, we are looking to characterize the metro lines by the venues surrounding the metro stations. For tourists, this study provides an idea of what venues to expect along the metro lines. For businesses, this study presents an opportunities to find a niche along the lines and avoid areas where competition is overly saturated. \n",
    "\n",
    "For this study, we will focus our efforts on studying the metro lines that pass through the city of LA, namely, the Red, the Gold and the Expo lines. "
   ]
  },
  {
   "cell_type": "markdown",
   "metadata": {},
   "source": [
    "# Data"
   ]
  },
  {
   "cell_type": "markdown",
   "metadata": {},
   "source": [
    "In order to characterize the metro lines described previously, we will be using Four Square to collect list of venues and their categories for all metro stations along the Red, Gold and Expo lines. \n",
    "\n",
    "To do so, we'll first set up a function to loop through all metro stations to collect venue data from Four Square.  "
   ]
  },
  {
   "cell_type": "code",
   "execution_count": 1,
   "metadata": {},
   "outputs": [],
   "source": [
    "#import libraries \n",
    "import numpy as np # library to handle data in a vectorized manner\n",
    "\n",
    "import pandas as pd # library for data analsysis\n",
    "\n",
    "import json # library to handle JSON files\n",
    "\n",
    "import requests # library to handle requests\n",
    "from pandas.io.json import json_normalize # tranform JSON file into a pandas dataframe\n"
   ]
  },
  {
   "cell_type": "code",
   "execution_count": 4,
   "metadata": {},
   "outputs": [
    {
     "name": "stdout",
     "output_type": "stream",
     "text": [
      "Your credentails:\n",
      "CLIENT_ID: 0MYX4OMSFLDOA4MZDOUSIN0ERPQ0FYBIDPU033WRALUJIV03\n",
      "CLIENT_SECRET:IP2HEOA1OBXYODOSDAEYHB0UW1DLKY4AS3SYFQVXK51HSNIC\n"
     ]
    }
   ],
   "source": [
    "#Set up Four Square credentials\n",
    "CLIENT_ID = '0MYX4OMSFLDOA4MZDOUSIN0ERPQ0FYBIDPU033WRALUJIV03' # your Foursquare ID\n",
    "CLIENT_SECRET = 'IP2HEOA1OBXYODOSDAEYHB0UW1DLKY4AS3SYFQVXK51HSNIC' # your Foursquare Secret\n",
    "VERSION = '20180604'\n",
    "LIMIT = 500\n",
    "print('Your credentails:')\n",
    "print('CLIENT_ID: ' + CLIENT_ID)\n",
    "print('CLIENT_SECRET:' + CLIENT_SECRET)"
   ]
  },
  {
   "cell_type": "code",
   "execution_count": 5,
   "metadata": {},
   "outputs": [],
   "source": [
    "#define function to get venues\n",
    "\n",
    "def getNearbyVenues(names, latitudes, longitudes, radius=400):\n",
    "    \n",
    "    venues_list=[]\n",
    "    for name, lat, lng in zip(names, latitudes, longitudes):\n",
    "        print(name)\n",
    "            \n",
    "        # create the API request URL\n",
    "        url = 'https://api.foursquare.com/v2/venues/explore?&client_id={}&client_secret={}&v={}&ll={},{}&radius={}&limit={}'.format(\n",
    "            CLIENT_ID, \n",
    "            CLIENT_SECRET, \n",
    "            VERSION, \n",
    "            lat, \n",
    "            lng, \n",
    "            radius, \n",
    "            LIMIT)\n",
    "            \n",
    "        # make the GET request\n",
    "        results = requests.get(url).json()[\"response\"]['groups'][0]['items']\n",
    "        \n",
    "        # return only relevant information for each nearby venue\n",
    "        venues_list.append([(\n",
    "            name,            \n",
    "            lat, \n",
    "            lng,\n",
    "            v['venue']['id'],\n",
    "            v['venue']['name'], \n",
    "            v['venue']['location']['lat'], \n",
    "            v['venue']['location']['lng'],  \n",
    "            v['venue']['categories'][0]['name']) for v in results])\n",
    "\n",
    "    nearby_venues = pd.DataFrame([item for venue_list in venues_list for item in venue_list])\n",
    "    nearby_venues.columns = ['Station', \n",
    "                  'Station Latitude', \n",
    "                  'Station Longitude', \n",
    "                  'Venue ID',           \n",
    "                  'Venue', \n",
    "                  'Venue Latitude', \n",
    "                  'Venue Longitude', \n",
    "                  'Venue Category']\n",
    "    \n",
    "    return(nearby_venues)"
   ]
  },
  {
   "cell_type": "markdown",
   "metadata": {},
   "source": [
    "With the `getNearbyVenues` function defined, we then proceed to import data containing all coordinates data of all metro stations so that we can use the `getNearbyVenues`to loop through all metro stations and collect benue data from Four Square. "
   ]
  },
  {
   "cell_type": "code",
   "execution_count": 6,
   "metadata": {},
   "outputs": [
    {
     "data": {
      "text/html": [
       "<div>\n",
       "<style scoped>\n",
       "    .dataframe tbody tr th:only-of-type {\n",
       "        vertical-align: middle;\n",
       "    }\n",
       "\n",
       "    .dataframe tbody tr th {\n",
       "        vertical-align: top;\n",
       "    }\n",
       "\n",
       "    .dataframe thead th {\n",
       "        text-align: right;\n",
       "    }\n",
       "</style>\n",
       "<table border=\"1\" class=\"dataframe\">\n",
       "  <thead>\n",
       "    <tr style=\"text-align: right;\">\n",
       "      <th></th>\n",
       "      <th>StationName</th>\n",
       "      <th>Line</th>\n",
       "      <th>Latitude</th>\n",
       "      <th>Longitude</th>\n",
       "    </tr>\n",
       "  </thead>\n",
       "  <tbody>\n",
       "    <tr>\n",
       "      <th>0</th>\n",
       "      <td>Atlantic Station</td>\n",
       "      <td>Gold</td>\n",
       "      <td>34.0334</td>\n",
       "      <td>-118.1540</td>\n",
       "    </tr>\n",
       "    <tr>\n",
       "      <th>1</th>\n",
       "      <td>East LA Civic Center Station</td>\n",
       "      <td>Gold</td>\n",
       "      <td>34.0332</td>\n",
       "      <td>-118.1614</td>\n",
       "    </tr>\n",
       "    <tr>\n",
       "      <th>2</th>\n",
       "      <td>Maravilla Station</td>\n",
       "      <td>Gold</td>\n",
       "      <td>34.0331</td>\n",
       "      <td>-118.1684</td>\n",
       "    </tr>\n",
       "    <tr>\n",
       "      <th>3</th>\n",
       "      <td>Indiana Station</td>\n",
       "      <td>Gold</td>\n",
       "      <td>34.0343</td>\n",
       "      <td>-118.1922</td>\n",
       "    </tr>\n",
       "    <tr>\n",
       "      <th>4</th>\n",
       "      <td>Soto Station</td>\n",
       "      <td>Gold</td>\n",
       "      <td>34.0440</td>\n",
       "      <td>-118.2106</td>\n",
       "    </tr>\n",
       "  </tbody>\n",
       "</table>\n",
       "</div>"
      ],
      "text/plain": [
       "                    StationName  Line  Latitude  Longitude\n",
       "0              Atlantic Station  Gold   34.0334  -118.1540\n",
       "1  East LA Civic Center Station  Gold   34.0332  -118.1614\n",
       "2             Maravilla Station  Gold   34.0331  -118.1684\n",
       "3               Indiana Station  Gold   34.0343  -118.1922\n",
       "4                  Soto Station  Gold   34.0440  -118.2106"
      ]
     },
     "execution_count": 6,
     "metadata": {},
     "output_type": "execute_result"
    }
   ],
   "source": [
    "#import Metro Station data\n",
    "la_metro_stations = pd.read_csv('red_gold_expo_stns.csv')\n",
    "la_metro_stations.head()"
   ]
  },
  {
   "cell_type": "markdown",
   "metadata": {},
   "source": [
    "Using the `read_csv` method, we imported the metro station data into a data frame. The data frame consists of each station's name, the line it belongs to, its latitidue and its longitude, respectively. The data appears to have been imported correctly. With that, use the `getNearbyVenues` to collect all venues in the proximity of the metro stations (within 400 meters radius). "
   ]
  },
  {
   "cell_type": "code",
   "execution_count": 7,
   "metadata": {},
   "outputs": [
    {
     "name": "stdout",
     "output_type": "stream",
     "text": [
      "Atlantic Station\n",
      "East LA Civic Center Station\n",
      "Maravilla Station\n",
      "Indiana Station\n",
      "Soto Station\n",
      "Mariachi Plaza Station\n",
      "Pico/Aliso Station\n",
      "Little Tokyo/Arts District Station\n",
      "Union Station Station\n",
      "Chinatown Station\n",
      "Lincoln/Cypress Station\n",
      "Heritage Square Station\n",
      "Southwest Museum Station\n",
      "Highland Park Station\n",
      "South Pasadena Station\n",
      "Fillmore Station\n",
      "Del Mar Station\n",
      "Memorial Park Station\n",
      "Lake Station\n",
      "Allen Station\n",
      "Sierra Madre Villa Station\n",
      "Arcadia Station\n",
      "Monrovia Station\n",
      "Duarte/City of Hope Station\n",
      "Irwindale Station\n",
      "Azusa Downtown Station\n",
      "APU/Citrus College Station\n",
      "Civic Center/Grand Park Station\n",
      "Pershing Square Station\n",
      "7th Street/Metro Center Station\n",
      "Westlake/MacArthur Park Station\n",
      "Wilshire/Vermont Station\n",
      "Vermont/Beverly Station\n",
      "Vermont/Santa Monica Station\n",
      "Vermont/Sunset Station\n",
      "Hollywood/Western Station\n",
      "Hollywood/Vine Station\n",
      "Hollywood/Highland Station\n",
      "Universal City/Studio City Station\n",
      "North Hollywood Station\n",
      "Pico Station\n",
      "LATTC/Ortho Institute Station\n",
      "Jefferson/USC Station\n",
      "Expo Park/USC Station\n",
      "Expo/Vermont Station\n",
      "Expo/Western Station\n",
      "Expo/Crenshaw Station\n",
      "Farmdale Station\n",
      "Expo/La Brea Station\n",
      "La Cienega/Jefferson Station\n",
      "Culver City Station\n",
      "Palms Station\n",
      "Westwood/Rancho Park Station\n",
      "Expo/Sepulveda Station\n",
      "Expo/Bundy Station\n",
      "26th Street/Bergamot Station\n",
      "17th Street/Santa Monica College Station\n",
      "Downtown Santa Monica Station\n",
      "Complete!\n"
     ]
    }
   ],
   "source": [
    "#get venues\n",
    "\n",
    "metro_stn_venues = getNearbyVenues(names=la_metro_stations['StationName'],\n",
    "                                   latitudes=la_metro_stations['Latitude'],\n",
    "                                   longitudes=la_metro_stations['Longitude']\n",
    "                                  )\n",
    "\n",
    "print('Complete!')"
   ]
  },
  {
   "cell_type": "markdown",
   "metadata": {},
   "source": [
    "With the quaries completed, let's insepct the data frame to see the data inside. "
   ]
  },
  {
   "cell_type": "code",
   "execution_count": 8,
   "metadata": {},
   "outputs": [
    {
     "data": {
      "text/html": [
       "<div>\n",
       "<style scoped>\n",
       "    .dataframe tbody tr th:only-of-type {\n",
       "        vertical-align: middle;\n",
       "    }\n",
       "\n",
       "    .dataframe tbody tr th {\n",
       "        vertical-align: top;\n",
       "    }\n",
       "\n",
       "    .dataframe thead th {\n",
       "        text-align: right;\n",
       "    }\n",
       "</style>\n",
       "<table border=\"1\" class=\"dataframe\">\n",
       "  <thead>\n",
       "    <tr style=\"text-align: right;\">\n",
       "      <th></th>\n",
       "      <th>Station</th>\n",
       "      <th>Station Latitude</th>\n",
       "      <th>Station Longitude</th>\n",
       "      <th>Venue ID</th>\n",
       "      <th>Venue</th>\n",
       "      <th>Venue Latitude</th>\n",
       "      <th>Venue Longitude</th>\n",
       "      <th>Venue Category</th>\n",
       "    </tr>\n",
       "  </thead>\n",
       "  <tbody>\n",
       "    <tr>\n",
       "      <th>0</th>\n",
       "      <td>Atlantic Station</td>\n",
       "      <td>34.0334</td>\n",
       "      <td>-118.154</td>\n",
       "      <td>5397b842498ea56da1541a95</td>\n",
       "      <td>Tacos Ensenada</td>\n",
       "      <td>34.033560</td>\n",
       "      <td>-118.153599</td>\n",
       "      <td>Mexican Restaurant</td>\n",
       "    </tr>\n",
       "    <tr>\n",
       "      <th>1</th>\n",
       "      <td>Atlantic Station</td>\n",
       "      <td>34.0334</td>\n",
       "      <td>-118.154</td>\n",
       "      <td>4c37f8a83849c92844cebeb1</td>\n",
       "      <td>Bob's Freeze</td>\n",
       "      <td>34.032557</td>\n",
       "      <td>-118.154414</td>\n",
       "      <td>Ice Cream Shop</td>\n",
       "    </tr>\n",
       "    <tr>\n",
       "      <th>2</th>\n",
       "      <td>Atlantic Station</td>\n",
       "      <td>34.0334</td>\n",
       "      <td>-118.154</td>\n",
       "      <td>4ab55445f964a520fc7320e3</td>\n",
       "      <td>Los Molcajetes</td>\n",
       "      <td>34.032970</td>\n",
       "      <td>-118.155352</td>\n",
       "      <td>Latin American Restaurant</td>\n",
       "    </tr>\n",
       "    <tr>\n",
       "      <th>3</th>\n",
       "      <td>Atlantic Station</td>\n",
       "      <td>34.0334</td>\n",
       "      <td>-118.154</td>\n",
       "      <td>4b64c062f964a52048cd2ae3</td>\n",
       "      <td>Fish Taco Express</td>\n",
       "      <td>34.032529</td>\n",
       "      <td>-118.154530</td>\n",
       "      <td>Taco Place</td>\n",
       "    </tr>\n",
       "    <tr>\n",
       "      <th>4</th>\n",
       "      <td>Atlantic Station</td>\n",
       "      <td>34.0334</td>\n",
       "      <td>-118.154</td>\n",
       "      <td>4b83365ff964a520a1fd30e3</td>\n",
       "      <td>SUBWAY</td>\n",
       "      <td>34.032530</td>\n",
       "      <td>-118.153702</td>\n",
       "      <td>Sandwich Place</td>\n",
       "    </tr>\n",
       "  </tbody>\n",
       "</table>\n",
       "</div>"
      ],
      "text/plain": [
       "            Station  Station Latitude  Station Longitude  \\\n",
       "0  Atlantic Station           34.0334           -118.154   \n",
       "1  Atlantic Station           34.0334           -118.154   \n",
       "2  Atlantic Station           34.0334           -118.154   \n",
       "3  Atlantic Station           34.0334           -118.154   \n",
       "4  Atlantic Station           34.0334           -118.154   \n",
       "\n",
       "                   Venue ID              Venue  Venue Latitude  \\\n",
       "0  5397b842498ea56da1541a95     Tacos Ensenada       34.033560   \n",
       "1  4c37f8a83849c92844cebeb1       Bob's Freeze       34.032557   \n",
       "2  4ab55445f964a520fc7320e3     Los Molcajetes       34.032970   \n",
       "3  4b64c062f964a52048cd2ae3  Fish Taco Express       34.032529   \n",
       "4  4b83365ff964a520a1fd30e3             SUBWAY       34.032530   \n",
       "\n",
       "   Venue Longitude             Venue Category  \n",
       "0      -118.153599         Mexican Restaurant  \n",
       "1      -118.154414             Ice Cream Shop  \n",
       "2      -118.155352  Latin American Restaurant  \n",
       "3      -118.154530                 Taco Place  \n",
       "4      -118.153702             Sandwich Place  "
      ]
     },
     "execution_count": 8,
     "metadata": {},
     "output_type": "execute_result"
    }
   ],
   "source": [
    "metro_stn_venues.head()"
   ]
  },
  {
   "cell_type": "markdown",
   "metadata": {},
   "source": [
    "As shown above, the data set includes the ID, name, coordinates and categories of each vanue found as well as the station and its coordinates to which the venue is in close proximity to. With the geological data and labels, this data set allows us to see what is surrounding each metro station, and therefore able to characterize each station and metro line. \n",
    "\n",
    "Let's check to see how many venues are included in the data. "
   ]
  },
  {
   "cell_type": "code",
   "execution_count": 10,
   "metadata": {},
   "outputs": [
    {
     "data": {
      "text/plain": [
       "(1379, 8)"
      ]
     },
     "execution_count": 10,
     "metadata": {},
     "output_type": "execute_result"
    }
   ],
   "source": [
    "metro_stn_venues.shape"
   ]
  },
  {
   "cell_type": "markdown",
   "metadata": {},
   "source": [
    "With 1,379 venues found in the vacinity of metro stations of interest, we have the data to form the backbone of our analysis. "
   ]
  },
  {
   "cell_type": "code",
   "execution_count": null,
   "metadata": {},
   "outputs": [],
   "source": []
  }
 ],
 "metadata": {
  "kernelspec": {
   "display_name": "Python 3",
   "language": "python",
   "name": "python3"
  },
  "language_info": {
   "codemirror_mode": {
    "name": "ipython",
    "version": 3
   },
   "file_extension": ".py",
   "mimetype": "text/x-python",
   "name": "python",
   "nbconvert_exporter": "python",
   "pygments_lexer": "ipython3",
   "version": "3.7.6"
  }
 },
 "nbformat": 4,
 "nbformat_minor": 4
}
